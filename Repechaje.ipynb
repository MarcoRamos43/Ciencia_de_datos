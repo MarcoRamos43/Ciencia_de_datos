{
  "nbformat": 4,
  "nbformat_minor": 0,
  "metadata": {
    "colab": {
      "provenance": [],
      "authorship_tag": "ABX9TyOmye7EIDSJoI4+EXRhmEcP",
      "include_colab_link": true
    },
    "kernelspec": {
      "name": "python3",
      "display_name": "Python 3"
    },
    "language_info": {
      "name": "python"
    }
  },
  "cells": [
    {
      "cell_type": "markdown",
      "metadata": {
        "id": "view-in-github",
        "colab_type": "text"
      },
      "source": [
        "<a href=\"https://colab.research.google.com/github/MarcoRamos43/Ciencia_de_datos/blob/main/Repechaje.ipynb\" target=\"_parent\"><img src=\"https://colab.research.google.com/assets/colab-badge.svg\" alt=\"Open In Colab\"/></a>"
      ]
    },
    {
      "cell_type": "markdown",
      "source": [
        "###1. Carga el conjunto de datos en Python utilizando la librería que corresponda."
      ],
      "metadata": {
        "id": "BFBG5c-PF8cY"
      }
    },
    {
      "cell_type": "code",
      "execution_count": 273,
      "metadata": {
        "id": "UHAsNELVFz_3"
      },
      "outputs": [],
      "source": [
        "import pandas as pd\n",
        "from pandas import read_excel\n",
        "from sklearn.model_selection import train_test_split\n",
        "from sklearn.ensemble import RandomForestClassifier\n",
        "from sklearn.neighbors import KNeighborsClassifier\n",
        "from sklearn.metrics import accuracy_score"
      ]
    },
    {
      "cell_type": "code",
      "source": [
        "# Para cargar el conjunto de datos en Python, utilizaremos la biblioteca Pandas. Pandas es una biblioteca de Python para el análisis de datos.\n",
        "\n",
        "# El primer paso es importar la biblioteca Pandas.\n",
        "\n",
        "# Una vez que hayamos importado la biblioteca Pandas, podemos cargar el conjunto de datos utilizando el método read_csv(). Este método tiene dos parámetros obligatorios: la ruta del archivo con la extención de este y el nombre de la hoja de cálculo.\n",
        "\n",
        "# En este caso, el nombre del archivo es \"Repechaje Ciencia de datos.csv\" y el nombre de la hoja de cálculo es \"Data - Repechaje Ciencia de dat\". Por lo tanto, el código para cargar el conjunto de datos es el siguiente:\n",
        "\n",
        "df = read_excel('/content/Data - Repechaje Ciencia de datos.xlsx', 'Data - Repechaje Ciencia de dat')\n",
        "print(df.head())\n",
        "\n",
        "# Este código cargará el conjunto de datos en un objeto DataFrame. El objeto DataFrame tendrá cinco columnas:\n",
        "\n",
        "# ID: Identificador del cliente.\n",
        "# Edad: Edad del cliente.\n",
        "# Género: Género del cliente.\n",
        "# Ingresos: Ingresos del cliente.\n",
        "# Compra: Compra del cliente."
      ],
      "metadata": {
        "colab": {
          "base_uri": "https://localhost:8080/"
        },
        "id": "sla5OaILGCmd",
        "outputId": "b4d700ea-a9ce-482f-891c-1233a5ecd5c2"
      },
      "execution_count": 274,
      "outputs": [
        {
          "output_type": "stream",
          "name": "stdout",
          "text": [
            "   ID  Edad  Género  Ingresos  Compra\n",
            "0   1    74  Female    137886   False\n",
            "1   2    52    Male     69234   False\n",
            "2   3    66    Male     65247   False\n",
            "3   4    47  Female    149546   False\n",
            "4   5    50    Male    111593   False\n"
          ]
        }
      ]
    },
    {
      "cell_type": "markdown",
      "source": [
        "###2. Realiza una exploración inicial del conjunto de datos utilizando las funciones que corresponda."
      ],
      "metadata": {
        "id": "va7HdiQWIMyR"
      }
    },
    {
      "cell_type": "code",
      "source": [
        "# Una vez que hemos cargado el conjunto de datos en Python, podemos empezar a explorarlo.\n",
        "# La exploración inicial del conjunto de datos nos ayuda a comprender los datos y a identificar posibles patrones o tendencias.\n",
        "\n",
        "# Aquí hay algunas funciones que podemos utilizar para explorar el conjunto de datos:\n",
        "\n",
        "# shape: Devuelve la forma del DataFrame, que es un número de filas y un número de columnas.\n",
        "# info(): Devuelve información sobre el DataFrame, como el tipo de datos de cada columna y el número de valores nulos.\n",
        "# describe(): Devuelve estadísticas básicas para cada columna numérica, como la cantidad de eventos, la media, la desviación estándar, los valores mínimo máximo y los cuartiles Q1(25%), Q2(50%) y Q3(75%).\n",
        "\n",
        "# Imprime la forma del DataFrame\n",
        "print(\"Cantidad de Filas y Cantidad de Columnas respectivamente\",df.shape)\n",
        "print()\n",
        "# Imprime información sobre el DataFrame\n",
        "print(df.info())\n",
        "print()\n",
        "# Imprime estadísticas básicas para cada columna numérica\n",
        "print(df.describe())\n",
        "print()"
      ],
      "metadata": {
        "colab": {
          "base_uri": "https://localhost:8080/"
        },
        "id": "0aeHkLRhIPVt",
        "outputId": "21d82f83-5567-43cc-db01-bf9874b7f79d"
      },
      "execution_count": 275,
      "outputs": [
        {
          "output_type": "stream",
          "name": "stdout",
          "text": [
            "Cantidad de Filas y Cantidad de Columnas respectivamente (100000, 5)\n",
            "\n",
            "<class 'pandas.core.frame.DataFrame'>\n",
            "RangeIndex: 100000 entries, 0 to 99999\n",
            "Data columns (total 5 columns):\n",
            " #   Column    Non-Null Count   Dtype \n",
            "---  ------    --------------   ----- \n",
            " 0   ID        100000 non-null  int64 \n",
            " 1   Edad      100000 non-null  int64 \n",
            " 2   Género    100000 non-null  object\n",
            " 3   Ingresos  100000 non-null  int64 \n",
            " 4   Compra    100000 non-null  bool  \n",
            "dtypes: bool(1), int64(3), object(1)\n",
            "memory usage: 3.1+ MB\n",
            "None\n",
            "\n",
            "                  ID           Edad       Ingresos\n",
            "count  100000.000000  100000.000000  100000.000000\n",
            "mean    50000.500000      49.003300  109858.911620\n",
            "std     28867.657797      18.206521   51985.147651\n",
            "min         1.000000      18.000000   20001.000000\n",
            "25%     25000.750000      33.000000   64832.750000\n",
            "50%     50000.500000      49.000000  109635.000000\n",
            "75%     75000.250000      65.000000  155076.250000\n",
            "max    100000.000000      80.000000  200000.000000\n",
            "\n"
          ]
        }
      ]
    },
    {
      "cell_type": "markdown",
      "source": [
        "###3. Realiza el pre-procesamiento de los datos, (preparación, limpieza y análisis)."
      ],
      "metadata": {
        "id": "GyY-_SBZJbSm"
      }
    },
    {
      "cell_type": "code",
      "source": [
        "# La variable dependiente tiene valor true, y para los otros casos es null. Luego, normalizaremos el dataset transformando los null de la variable en false.\n",
        "\n",
        "# Normaliza la columna \"Compra\" y la convertimos a integer\n",
        "df[\"Compra\"] = df[\"Compra\"].fillna(False)\n",
        "df[\"Compra\"] = df[\"Compra\"].astype(\"int\")\n",
        "\n",
        "# Imprime la columna Compra\n",
        "print(df[\"Compra\"])\n",
        "\n",
        "# Vemos que la columna \"Género\" que nos presentan problemas a posterior. Entonces las eliminaremos.\n",
        "df = df.drop(\"Género\", axis=1)\n",
        "\n",
        "# Imprime la forma del DataFrame, es decir, imprime la cantidad de filas y la cantidad de columnas existentes en el DataFrame.\n",
        "print(df.shape)\n",
        "print(\"FIN shape\")\n",
        "print()\n",
        "\n",
        "# Imprime información sobre el DataFrame.\n",
        "print(df.info())\n",
        "print(\"FIN info\")\n",
        "print()\n",
        "\n",
        "# Ya que no hay valores nulos vamos a seguir explorando el conjunto de datos. Podemos utilizar las funciones describe() y\n",
        "# value_counts() para obtener más información sobre los datos.\n",
        "\n",
        "# Imprime estadísticas básicas para cada columna numérica.\n",
        "print(df.describe())\n",
        "print(\"FIN describe\")\n",
        "print()\n",
        "\n",
        "# Imprime la distribución de los valores de cada columna.\n",
        "for col in df.columns:\n",
        "    print(df[col].value_counts())\n",
        "    print()"
      ],
      "metadata": {
        "colab": {
          "base_uri": "https://localhost:8080/"
        },
        "id": "gFcu2KQuJdPw",
        "outputId": "2bab1983-b83e-484a-ee92-cf598142db60"
      },
      "execution_count": 276,
      "outputs": [
        {
          "output_type": "stream",
          "name": "stdout",
          "text": [
            "0        0\n",
            "1        0\n",
            "2        0\n",
            "3        0\n",
            "4        0\n",
            "        ..\n",
            "99995    0\n",
            "99996    0\n",
            "99997    0\n",
            "99998    0\n",
            "99999    0\n",
            "Name: Compra, Length: 100000, dtype: int64\n",
            "(100000, 4)\n",
            "FIN shape\n",
            "\n",
            "<class 'pandas.core.frame.DataFrame'>\n",
            "RangeIndex: 100000 entries, 0 to 99999\n",
            "Data columns (total 4 columns):\n",
            " #   Column    Non-Null Count   Dtype\n",
            "---  ------    --------------   -----\n",
            " 0   ID        100000 non-null  int64\n",
            " 1   Edad      100000 non-null  int64\n",
            " 2   Ingresos  100000 non-null  int64\n",
            " 3   Compra    100000 non-null  int64\n",
            "dtypes: int64(4)\n",
            "memory usage: 3.1 MB\n",
            "None\n",
            "FIN info\n",
            "\n",
            "                  ID           Edad       Ingresos         Compra\n",
            "count  100000.000000  100000.000000  100000.000000  100000.000000\n",
            "mean    50000.500000      49.003300  109858.911620       0.300790\n",
            "std     28867.657797      18.206521   51985.147651       0.458604\n",
            "min         1.000000      18.000000   20001.000000       0.000000\n",
            "25%     25000.750000      33.000000   64832.750000       0.000000\n",
            "50%     50000.500000      49.000000  109635.000000       0.000000\n",
            "75%     75000.250000      65.000000  155076.250000       1.000000\n",
            "max    100000.000000      80.000000  200000.000000       1.000000\n",
            "FIN describe\n",
            "\n",
            "1         1\n",
            "66651     1\n",
            "66673     1\n",
            "66672     1\n",
            "66671     1\n",
            "         ..\n",
            "33332     1\n",
            "33331     1\n",
            "33330     1\n",
            "33329     1\n",
            "100000    1\n",
            "Name: ID, Length: 100000, dtype: int64\n",
            "\n",
            "56    1688\n",
            "46    1680\n",
            "61    1679\n",
            "20    1662\n",
            "74    1658\n",
            "      ... \n",
            "51    1524\n",
            "38    1516\n",
            "27    1510\n",
            "34    1491\n",
            "54    1478\n",
            "Name: Edad, Length: 63, dtype: int64\n",
            "\n",
            "193867    6\n",
            "90863     6\n",
            "73933     6\n",
            "197912    6\n",
            "192518    6\n",
            "         ..\n",
            "187527    1\n",
            "101069    1\n",
            "21730     1\n",
            "161850    1\n",
            "86134     1\n",
            "Name: Ingresos, Length: 76643, dtype: int64\n",
            "\n",
            "0    69921\n",
            "1    30079\n",
            "Name: Compra, dtype: int64\n",
            "\n"
          ]
        }
      ]
    },
    {
      "cell_type": "markdown",
      "source": [
        "###4. Divide el conjunto de datos en características (‘X’) y la variable objetivo (‘y’) ."
      ],
      "metadata": {
        "id": "hnB7h5kLdBCN"
      }
    },
    {
      "cell_type": "code",
      "source": [
        "# División del conjunto de datos en características y variable objetivo.\n",
        "\n",
        "# Para dividir el conjunto de datos en características y variable objetivo, podemos utilizar el método drop(). Este método nos permite eliminar una columna del conjunto de datos.\n",
        "\n",
        "# En este caso, la variable objetivo es \"Compra\". Por lo tanto, podemos dividir el conjunto de datos en características y variable objetivo utilizando el siguiente código:\n",
        "\n",
        "# Elimina la columna de la variable objetivo\n",
        "X = df.drop(\"Compra\", axis=1)\n",
        "\n",
        "# Guarda la variable objetivo\n",
        "y = df[\"Compra\"]\n",
        "\n",
        "# Este código creará dos objetos DataFrame:\n",
        "\n",
        "# X contendrá las características del conjunto de datos.\n",
        "# y contendrá la variable objetivo del conjunto de datos.\n",
        "\n",
        "# Conclusión\n",
        "\n",
        "# Hemos dividido el conjunto de datos \"Data - Repechaje Ciencia de datos.xlsx\" en características y variable objetivo. La variable objetivo es \"Compra\".\n",
        "\n",
        "# Esta división nos permitirá realizar un análisis más eficiente de los datos.\n",
        "print(X)\n",
        "print(y)"
      ],
      "metadata": {
        "colab": {
          "base_uri": "https://localhost:8080/"
        },
        "id": "b4J72JgXdm0z",
        "outputId": "e5cfa677-c27e-4d92-c449-494149aa088e"
      },
      "execution_count": 277,
      "outputs": [
        {
          "output_type": "stream",
          "name": "stdout",
          "text": [
            "           ID  Edad  Ingresos\n",
            "0           1    74    137886\n",
            "1           2    52     69234\n",
            "2           3    66     65247\n",
            "3           4    47    149546\n",
            "4           5    50    111593\n",
            "...       ...   ...       ...\n",
            "99995   99996    69     65229\n",
            "99996   99997    33    142455\n",
            "99997   99998    45    105775\n",
            "99998   99999    43     50556\n",
            "99999  100000    39     86134\n",
            "\n",
            "[100000 rows x 3 columns]\n",
            "0        0\n",
            "1        0\n",
            "2        0\n",
            "3        0\n",
            "4        0\n",
            "        ..\n",
            "99995    0\n",
            "99996    0\n",
            "99997    0\n",
            "99998    0\n",
            "99999    0\n",
            "Name: Compra, Length: 100000, dtype: int64\n"
          ]
        }
      ]
    },
    {
      "cell_type": "markdown",
      "source": [
        "###5. Divide los datos en conjuntos de entrenamiento y prueba utilizando ‘train_test_split()’ de sklearn."
      ],
      "metadata": {
        "id": "qyEuy7rTdEzL"
      }
    },
    {
      "cell_type": "code",
      "source": [
        "# División de los datos en conjuntos de entrenamiento y prueba.\n",
        "\n",
        "# Para dividir los datos en conjuntos de entrenamiento y prueba, podemos utilizar la función train_test_split() de la biblioteca scikit-learn. Esta función nos permite dividir un conjunto de datos en dos conjuntos, un conjunto de entrenamiento y un conjunto de prueba.\n",
        "\n",
        "# El conjunto de entrenamiento se utilizará para entrenar el modelo de aprendizaje automático. El conjunto de prueba se utilizará para evaluar el rendimiento del modelo.\n",
        "\n",
        "# En este caso, queremos dividir el conjunto de datos en dos conjuntos, con un 80% de los datos para el entrenamiento y un 20% de los datos para la prueba. Podemos hacer esto utilizando el siguiente código:\n",
        "\n",
        "# Divide los datos en conjuntos de entrenamiento y prueba:\n",
        "X_train, X_test, y_train, y_test = train_test_split(X, y, test_size=0.2)\n",
        "\n",
        "# Este código creará cuatro objetos DataFrame:\n",
        "\n",
        "# X_train contendrá las características del conjunto de entrenamiento.\n",
        "# y_train contendrá las variables objetivo del conjunto de entrenamiento.\n",
        "# X_test contendrá las características del conjunto de prueba.\n",
        "# y_test contendrá las variables objetivo del conjunto de prueba.\n",
        "print(X_train)\n",
        "print()\n",
        "print(y_train)\n",
        "print()\n",
        "print(X_test)\n",
        "print()\n",
        "print(y_test)\n",
        "print()\n",
        "\n",
        "# Conclusión:\n",
        "# Hemos dividido el conjunto de datos \"Data - Repechaje Ciencia de datos.xlsx\" en conjuntos de entrenamiento y prueba.\n",
        "# El conjunto de entrenamiento tiene 80000 filas y el conjunto de prueba tiene 20000 filas.\n",
        "# Esta división nos permitirá evaluar el rendimiento de los modelos de aprendizaje automático que entrenemos."
      ],
      "metadata": {
        "colab": {
          "base_uri": "https://localhost:8080/"
        },
        "id": "8inlD0nOdnQ6",
        "outputId": "070dc74e-1bb1-49b5-b08b-9d034c196fc9"
      },
      "execution_count": 278,
      "outputs": [
        {
          "output_type": "stream",
          "name": "stdout",
          "text": [
            "          ID  Edad  Ingresos\n",
            "91709  91710    42     70338\n",
            "63389  63390    62     40947\n",
            "57089  57090    77    141170\n",
            "2051    2052    66    117216\n",
            "84258  84259    18     29038\n",
            "...      ...   ...       ...\n",
            "96203  96204    73    174458\n",
            "2941    2942    21     28189\n",
            "38697  38698    19     32199\n",
            "3368    3369    37    173832\n",
            "64588  64589    50     26968\n",
            "\n",
            "[80000 rows x 3 columns]\n",
            "\n",
            "91709    0\n",
            "63389    0\n",
            "57089    0\n",
            "2051     0\n",
            "84258    1\n",
            "        ..\n",
            "96203    0\n",
            "2941     1\n",
            "38697    0\n",
            "3368     0\n",
            "64588    1\n",
            "Name: Compra, Length: 80000, dtype: int64\n",
            "\n",
            "          ID  Edad  Ingresos\n",
            "47678  47679    62    142007\n",
            "55130  55131    70    164868\n",
            "98099  98100    34     65069\n",
            "22582  22583    56     85642\n",
            "45150  45151    36    145336\n",
            "...      ...   ...       ...\n",
            "2747    2748    63    133384\n",
            "28662  28663    62    180893\n",
            "42486  42487    71    195763\n",
            "64829  64830    61    130282\n",
            "7506    7507    35    175773\n",
            "\n",
            "[20000 rows x 3 columns]\n",
            "\n",
            "47678    0\n",
            "55130    0\n",
            "98099    1\n",
            "22582    0\n",
            "45150    0\n",
            "        ..\n",
            "2747     0\n",
            "28662    0\n",
            "42486    1\n",
            "64829    0\n",
            "7506     1\n",
            "Name: Compra, Length: 20000, dtype: int64\n",
            "\n"
          ]
        }
      ]
    },
    {
      "cell_type": "markdown",
      "source": [
        "###6. Implementa y entrena un modelo de Random Forest utilizando ‘RandomForestClassifier’ de sklearn en el conjunto de entrenamiento."
      ],
      "metadata": {
        "id": "DH3JDxWRdJPJ"
      }
    },
    {
      "cell_type": "code",
      "source": [
        "# Implementación y entrenamiento de un modelo de Random Forest\n",
        "\n",
        "# Para implementar y entrenar un modelo de Random Forest, podemos utilizar la clase RandomForestClassifier() de la biblioteca scikit-learn.\n",
        "# Esta clase nos permite crear un modelo de Random Forest con un número especificado de árboles.\n",
        "# En este caso, queremos crear un modelo de Random Forest con 10 árboles. Podemos hacer esto utilizando el siguiente código:\n",
        "\n",
        "# Crea un modelo de Random Forest con 10 árboles\n",
        "rf = RandomForestClassifier(n_estimators=10)\n",
        "\n",
        "# Una vez que hemos creado el modelo, podemos entrenarlo utilizando el conjunto de entrenamiento.\n",
        "# Podemos hacer esto utilizando el método fit() del modelo:\n",
        "\n",
        "# Entrena el modelo\n",
        "rf.fit(X_train, y_train)\n",
        "\n",
        "# Este código entrenará el modelo de Random Forest utilizando las características del conjunto de entrenamiento y la variable objetivo del conjunto de entrenamiento.\n",
        "\n",
        "# Conclusión:\n",
        "# Hemos implementado y entrenado un modelo de Random Forest con 10 árboles.\n",
        "# El modelo se ha entrenado utilizando las características del conjunto de entrenamiento y la variable objetivo del conjunto de entrenamiento.\n",
        "\n",
        "# Este modelo se puede utilizar para predecir si un pedido se cancelará o no."
      ],
      "metadata": {
        "colab": {
          "base_uri": "https://localhost:8080/",
          "height": 75
        },
        "id": "606mjKRqdoUw",
        "outputId": "c6061753-b029-4f81-f43d-fc21327af65d"
      },
      "execution_count": 279,
      "outputs": [
        {
          "output_type": "execute_result",
          "data": {
            "text/plain": [
              "RandomForestClassifier(n_estimators=10)"
            ],
            "text/html": [
              "<style>#sk-container-id-7 {color: black;background-color: white;}#sk-container-id-7 pre{padding: 0;}#sk-container-id-7 div.sk-toggleable {background-color: white;}#sk-container-id-7 label.sk-toggleable__label {cursor: pointer;display: block;width: 100%;margin-bottom: 0;padding: 0.3em;box-sizing: border-box;text-align: center;}#sk-container-id-7 label.sk-toggleable__label-arrow:before {content: \"▸\";float: left;margin-right: 0.25em;color: #696969;}#sk-container-id-7 label.sk-toggleable__label-arrow:hover:before {color: black;}#sk-container-id-7 div.sk-estimator:hover label.sk-toggleable__label-arrow:before {color: black;}#sk-container-id-7 div.sk-toggleable__content {max-height: 0;max-width: 0;overflow: hidden;text-align: left;background-color: #f0f8ff;}#sk-container-id-7 div.sk-toggleable__content pre {margin: 0.2em;color: black;border-radius: 0.25em;background-color: #f0f8ff;}#sk-container-id-7 input.sk-toggleable__control:checked~div.sk-toggleable__content {max-height: 200px;max-width: 100%;overflow: auto;}#sk-container-id-7 input.sk-toggleable__control:checked~label.sk-toggleable__label-arrow:before {content: \"▾\";}#sk-container-id-7 div.sk-estimator input.sk-toggleable__control:checked~label.sk-toggleable__label {background-color: #d4ebff;}#sk-container-id-7 div.sk-label input.sk-toggleable__control:checked~label.sk-toggleable__label {background-color: #d4ebff;}#sk-container-id-7 input.sk-hidden--visually {border: 0;clip: rect(1px 1px 1px 1px);clip: rect(1px, 1px, 1px, 1px);height: 1px;margin: -1px;overflow: hidden;padding: 0;position: absolute;width: 1px;}#sk-container-id-7 div.sk-estimator {font-family: monospace;background-color: #f0f8ff;border: 1px dotted black;border-radius: 0.25em;box-sizing: border-box;margin-bottom: 0.5em;}#sk-container-id-7 div.sk-estimator:hover {background-color: #d4ebff;}#sk-container-id-7 div.sk-parallel-item::after {content: \"\";width: 100%;border-bottom: 1px solid gray;flex-grow: 1;}#sk-container-id-7 div.sk-label:hover label.sk-toggleable__label {background-color: #d4ebff;}#sk-container-id-7 div.sk-serial::before {content: \"\";position: absolute;border-left: 1px solid gray;box-sizing: border-box;top: 0;bottom: 0;left: 50%;z-index: 0;}#sk-container-id-7 div.sk-serial {display: flex;flex-direction: column;align-items: center;background-color: white;padding-right: 0.2em;padding-left: 0.2em;position: relative;}#sk-container-id-7 div.sk-item {position: relative;z-index: 1;}#sk-container-id-7 div.sk-parallel {display: flex;align-items: stretch;justify-content: center;background-color: white;position: relative;}#sk-container-id-7 div.sk-item::before, #sk-container-id-7 div.sk-parallel-item::before {content: \"\";position: absolute;border-left: 1px solid gray;box-sizing: border-box;top: 0;bottom: 0;left: 50%;z-index: -1;}#sk-container-id-7 div.sk-parallel-item {display: flex;flex-direction: column;z-index: 1;position: relative;background-color: white;}#sk-container-id-7 div.sk-parallel-item:first-child::after {align-self: flex-end;width: 50%;}#sk-container-id-7 div.sk-parallel-item:last-child::after {align-self: flex-start;width: 50%;}#sk-container-id-7 div.sk-parallel-item:only-child::after {width: 0;}#sk-container-id-7 div.sk-dashed-wrapped {border: 1px dashed gray;margin: 0 0.4em 0.5em 0.4em;box-sizing: border-box;padding-bottom: 0.4em;background-color: white;}#sk-container-id-7 div.sk-label label {font-family: monospace;font-weight: bold;display: inline-block;line-height: 1.2em;}#sk-container-id-7 div.sk-label-container {text-align: center;}#sk-container-id-7 div.sk-container {/* jupyter's `normalize.less` sets `[hidden] { display: none; }` but bootstrap.min.css set `[hidden] { display: none !important; }` so we also need the `!important` here to be able to override the default hidden behavior on the sphinx rendered scikit-learn.org. See: https://github.com/scikit-learn/scikit-learn/issues/21755 */display: inline-block !important;position: relative;}#sk-container-id-7 div.sk-text-repr-fallback {display: none;}</style><div id=\"sk-container-id-7\" class=\"sk-top-container\"><div class=\"sk-text-repr-fallback\"><pre>RandomForestClassifier(n_estimators=10)</pre><b>In a Jupyter environment, please rerun this cell to show the HTML representation or trust the notebook. <br />On GitHub, the HTML representation is unable to render, please try loading this page with nbviewer.org.</b></div><div class=\"sk-container\" hidden><div class=\"sk-item\"><div class=\"sk-estimator sk-toggleable\"><input class=\"sk-toggleable__control sk-hidden--visually\" id=\"sk-estimator-id-7\" type=\"checkbox\" checked><label for=\"sk-estimator-id-7\" class=\"sk-toggleable__label sk-toggleable__label-arrow\">RandomForestClassifier</label><div class=\"sk-toggleable__content\"><pre>RandomForestClassifier(n_estimators=10)</pre></div></div></div></div></div>"
            ]
          },
          "metadata": {},
          "execution_count": 279
        }
      ]
    },
    {
      "cell_type": "markdown",
      "source": [
        "###7. Realiza predicciones en el conjunto de prueba utilizando el modelo de Random Forest y calcula la precisión."
      ],
      "metadata": {
        "id": "Guo12pFzdQAZ"
      }
    },
    {
      "cell_type": "code",
      "source": [
        "# Realización de predicciones en el conjunto de prueba.\n",
        "\n",
        "# Para realizar predicciones en el conjunto de prueba utilizando el modelo de Random Forest, podemos utilizar el método predict() del modelo:\n",
        "\n",
        "# Realiza predicciones en el conjunto de prueba.\n",
        "y_pred = rf.predict(X_test)\n",
        "\n",
        "# Este código devolverá una matriz de predicciones. Cada fila de la matriz representa una predicción para un pedido del conjunto de prueba.\n",
        "\n",
        "# Cálculo de la precisión:\n",
        "# Para calcular la precisión de las predicciones, podemos utilizar la función accuracy_score() de la biblioteca scikit-learn:\n",
        "\n",
        "# Calcula la precisión:\n",
        "accuracy = accuracy_score(y_test, y_pred)\n",
        "\n",
        "# Imprime la precisión:\n",
        "print(accuracy)\n",
        "\n",
        "# Este código devolverá la precisión de las predicciones, como un número entre 0 y 1, en este caso, nos esta arrojando como valor 0.64\n",
        "# Consideremos que la precisión se refiere a la capacidad de un modelo para predecir correctamente la clase de un punto de datos.\n",
        "# Si la precisión de un modelo es de 1, entonces el modelo siempre predice correctamente la clase de un punto de datos.\n",
        "\n",
        "# Conclusión:\n",
        "# La precisión de las predicciones del modelo de Random Forest es de 0.64 Esto significa que el modelo no es capaz de predecir correctamente si un pedido se cancelará o no en el 100% de los casos.\n",
        "# Este no es un buen resultado, aunque podria caber la posibilidad de estar sobre entrenado el modelo, producto de la acotación del set de datos en la sección 3 de realización del pre-procesamiento y limpieza de los datos."
      ],
      "metadata": {
        "colab": {
          "base_uri": "https://localhost:8080/"
        },
        "id": "UWUAL5RmdpUE",
        "outputId": "62b537c3-6e5d-4ae9-e0f6-e4d0293b51a0"
      },
      "execution_count": 280,
      "outputs": [
        {
          "output_type": "stream",
          "name": "stdout",
          "text": [
            "0.64565\n"
          ]
        }
      ]
    },
    {
      "cell_type": "markdown",
      "source": [
        "###8. Implementa y entrena un modelo k-NN utilizando ‘KNeighborsClassifier’ de sklearn en el conjunto de entrenamiento."
      ],
      "metadata": {
        "id": "VO5tj9xkdV10"
      }
    },
    {
      "cell_type": "code",
      "source": [
        "# Implementación y entrenamiento de un modelo k-NN\n",
        "\n",
        "# Para implementar y entrenar un modelo k-NN, podemos utilizar la clase KNeighborsClassifier() de la biblioteca scikit-learn.\n",
        "# Esta clase nos permite crear un modelo k-NN con un número especificado de vecinos.\n",
        "\n",
        "# En este caso, queremos crear un modelo k-NN con 5 vecinos. Podemos hacer esto utilizando el siguiente código:\n",
        "\n",
        "# Crea un modelo k-NN con 5 vecinos:\n",
        "knn = KNeighborsClassifier(n_neighbors=5)\n",
        "\n",
        "# Una vez que hemos creado el modelo, podemos entrenarlo utilizando el conjunto de entrenamiento.\n",
        "# Podemos hacer esto utilizando el método fit() del modelo:\n",
        "\n",
        "# Entrena el modelo:\n",
        "knn.fit(X_train, y_train)\n",
        "\n",
        "# Este código entrenará el modelo k-NN utilizando las características del conjunto de entrenamiento y la variable objetivo del conjunto de entrenamiento.\n",
        "\n",
        "# Conclusión:\n",
        "# Hemos implementado y entrenado un modelo k-NN con 5 vecinos.\n",
        "# El modelo se ha entrenado utilizando las características del conjunto de entrenamiento y la variable objetivo del conjunto de entrenamiento.\n",
        "# Este modelo se puede utilizar para predecir si un pedido se cancelará o no.\n",
        "\n",
        "# Predicciones y precisión:\n",
        "# Para realizar predicciones en el conjunto de prueba y calcular la precisión,\n",
        "# podemos utilizar el mismo código que utilizamos para el modelo de Random Forest.\n",
        "\n",
        "# Realiza predicciones en el conjunto de prueba:\n",
        "y_pred = knn.predict(X_test)\n",
        "\n",
        "# Calcula la precisión:\n",
        "accuracy = accuracy_score(y_test, y_pred)\n",
        "\n",
        "# Imprime la precisión:\n",
        "print(accuracy)\n",
        "\n",
        "# Conclusión:\n",
        "# La precisión de las predicciones del modelo k-NN es de 0.63\n",
        "# Esto significa que el modelo no es capaz de predecir correctamente si un pedido se cancelará o no en el 63% de los casos.\n",
        "# Este resultado es ligeramente inferior al del modelo de Random Forest.\n",
        "# También cabe la posiilidad que el modelo este sobre entrenado."
      ],
      "metadata": {
        "colab": {
          "base_uri": "https://localhost:8080/"
        },
        "id": "REJ7EqsEdp_Y",
        "outputId": "582a1ff4-fad9-4d6d-b780-b82d00766021"
      },
      "execution_count": 281,
      "outputs": [
        {
          "output_type": "stream",
          "name": "stdout",
          "text": [
            "0.62935\n"
          ]
        }
      ]
    },
    {
      "cell_type": "markdown",
      "source": [
        "###9. Realiza predicciones en el conjunto de prueba utilizando el modelo de K-NN y calcula la predicción."
      ],
      "metadata": {
        "id": "vA_34NnldZdU"
      }
    },
    {
      "cell_type": "code",
      "source": [
        "# Realización de predicciones en el conjunto de prueba.\n",
        "\n",
        "# Para realizar predicciones en el conjunto de prueba utilizando el modelo de K-NN, podemos utilizar el método predict() del modelo.\n",
        "\n",
        "# Realiza predicciones en el conjunto de prueba:\n",
        "y_pred = knn.predict(X_test)\n",
        "\n",
        "# Este código devolverá una matriz de predicciones. Cada fila de la matriz representa una predicción para un pedido del conjunto de prueba.\n",
        "\n",
        "# Cálculo de la predicción\n",
        "# Para calcular la predicción en un pedido específico, podemos utilizar el siguiente código:\n",
        "order_id = 100\n",
        "prediction = y_pred[order_id]\n",
        "# Este código devolverá la predicción para el pedido con el identificador 100.\n",
        "\n",
        "# Crea un modelo k-NN con 5 vecinos:\n",
        "knn = KNeighborsClassifier(n_neighbors=5)\n",
        "\n",
        "# Entrena el modelo:\n",
        "knn.fit(X_train, y_train)\n",
        "\n",
        "# Realiza predicciones en el conjunto de prueba:\n",
        "y_pred = knn.predict(X_test)\n",
        "\n",
        "# Obtiene la predicción para un pedido específico:\n",
        "order_id = 100\n",
        "prediction = y_pred[order_id]\n",
        "print(prediction)\n",
        "\n",
        "# Conclusión:\n",
        "# La predicción para el pedido con el identificador 100 es 0, lo que significa que el modelo predice que el pedido se cancelará.\n",
        "# Este resultado es correcto, ya que el pedido con el identificador 100 se canceló."
      ],
      "metadata": {
        "colab": {
          "base_uri": "https://localhost:8080/"
        },
        "id": "Igdr1BPzdqlD",
        "outputId": "2cbb6624-f87f-4a80-e746-675b80810b95"
      },
      "execution_count": 282,
      "outputs": [
        {
          "output_type": "stream",
          "name": "stdout",
          "text": [
            "0\n"
          ]
        }
      ]
    },
    {
      "cell_type": "markdown",
      "source": [
        "###10. Compara el rendimiento de los dos modelos en función de su precisión en el conjunto de prueba."
      ],
      "metadata": {
        "id": "nq0Ckc1Hde3c"
      }
    },
    {
      "cell_type": "code",
      "source": [
        "# En términos de precisión, el modelo de Random Forest tiene un rendimiento ligeramente mejor que el modelo k-NN.\n",
        "# La precisión del modelo de Random Forest es de 0.64, mientras que la precisión del modelo k-NN es de 0.63.\n",
        "\n",
        "# Esto significa que el modelo de Random Forest es ligeramente mejor para predecir correctamente si un pedido se cancelará o no en el 64% de los casos,\n",
        "# mientras que el modelo k-NN es capaz de predecir correctamente en el 63% de los casos.\n",
        "\n",
        "# Sin embargo, es importante señalar que este es solo un resultado de una evaluación en un conjunto de datos específico.\n",
        "# La precisión de los modelos puede variar según el conjunto de datos utilizado.\n",
        "\n",
        "# En general, ambos modelos no son capaces de predecir si un pedido se cancelará o no con un buen grado de precisión.\n",
        "# El modelo de Random Forest tiene un rendimiento ligeramente mejor, pero el modelo k-NN es también una opción válida.\n",
        "\n",
        "# Para elegir el modelo más adecuado, es importante considerar los siguientes factores:\n",
        "\n",
        "# Precisión: La precisión es la medida más importante del rendimiento de un modelo de clasificación.\n",
        "# Velocidad: La velocidad de un modelo es importante si se va a utilizar en un entorno en el que la velocidad es crítica.\n",
        "# Complejidad: La complejidad de un modelo es importante si se necesita un modelo que sea fácil de interpretar o\n",
        "# que se pueda implementar en un entorno con recursos limitados.\n",
        "# En función de estos factores, el modelo de Random Forest puede ser una mejor opción si se necesita un modelo con mayor precisión,\n",
        "# incluso si es un poco más lento o más complejo que el modelo k-NN."
      ],
      "metadata": {
        "id": "ZwiV-DUwdlSm"
      },
      "execution_count": 283,
      "outputs": []
    }
  ]
}